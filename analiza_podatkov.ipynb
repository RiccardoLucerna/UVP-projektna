{
 "cells": [
  {
   "cell_type": "markdown",
   "id": "cb78bda2",
   "metadata": {},
   "source": [
    "# Analiza najbolj dragocenih nogometašev"
   ]
  },
  {
   "cell_type": "markdown",
   "id": "15d9b2ed",
   "metadata": {},
   "source": [
    "Na tej datoteki bo potekala analiza o najbolj dragocenih nogometašev, pridobljenih s pomočjo datoteke *Transfermarkt.py*."
   ]
  },
  {
   "cell_type": "markdown",
   "id": "940649b7",
   "metadata": {},
   "source": [
    "Analizirali bomo:\n",
    "* Povprečna vrednost igralcev po pozicijah;\n",
    "* Povprečna vrednost po starostni skupinah;\n",
    "* Vrednost nogometnih klubov"
   ]
  },
  {
   "cell_type": "code",
   "execution_count": 24,
   "id": "bfa2fd54",
   "metadata": {},
   "outputs": [],
   "source": [
    "import pandas as pd\n",
    "import matplotlib.pyplot as plt\n",
    "import matplotlib.ticker as mtick"
   ]
  },
  {
   "cell_type": "code",
   "execution_count": 25,
   "id": "d3018cb0",
   "metadata": {},
   "outputs": [],
   "source": [
    "pd.options.display.max_rows = 20"
   ]
  },
  {
   "cell_type": "code",
   "execution_count": 26,
   "id": "beb8066d",
   "metadata": {},
   "outputs": [],
   "source": [
    "osnovni_podatki = pd.read_csv(\"podatki/nogometasi.csv\")"
   ]
  },
  {
   "cell_type": "markdown",
   "id": "caf69ec9",
   "metadata": {},
   "source": [
    "### Top 10"
   ]
  },
  {
   "cell_type": "code",
   "execution_count": 27,
   "id": "a025e14e",
   "metadata": {},
   "outputs": [
    {
     "name": "stdout",
     "output_type": "stream",
     "text": [
      "\n",
      "🏆 10 najvrednejših igralcev:\n"
     ]
    },
    {
     "data": {
      "text/html": [
       "<div>\n",
       "<style scoped>\n",
       "    .dataframe tbody tr th:only-of-type {\n",
       "        vertical-align: middle;\n",
       "    }\n",
       "\n",
       "    .dataframe tbody tr th {\n",
       "        vertical-align: top;\n",
       "    }\n",
       "\n",
       "    .dataframe thead th {\n",
       "        text-align: right;\n",
       "    }\n",
       "</style>\n",
       "<table border=\"1\" class=\"dataframe\">\n",
       "  <thead>\n",
       "    <tr style=\"text-align: right;\">\n",
       "      <th></th>\n",
       "      <th>ime</th>\n",
       "      <th>stevilna_cena_eur</th>\n",
       "      <th>pozicija</th>\n",
       "      <th>drzava_1</th>\n",
       "    </tr>\n",
       "  </thead>\n",
       "  <tbody>\n",
       "    <tr>\n",
       "      <th>0</th>\n",
       "      <td>Lamine Yamal</td>\n",
       "      <td>20000000000</td>\n",
       "      <td>Right Winger</td>\n",
       "      <td>Spain</td>\n",
       "    </tr>\n",
       "    <tr>\n",
       "      <th>2</th>\n",
       "      <td>Erling Haaland</td>\n",
       "      <td>18000000000</td>\n",
       "      <td>Centre-Forward</td>\n",
       "      <td>Norway</td>\n",
       "    </tr>\n",
       "    <tr>\n",
       "      <th>3</th>\n",
       "      <td>Kylian Mbappé</td>\n",
       "      <td>18000000000</td>\n",
       "      <td>Centre-Forward</td>\n",
       "      <td>France</td>\n",
       "    </tr>\n",
       "    <tr>\n",
       "      <th>1</th>\n",
       "      <td>Jude Bellingham</td>\n",
       "      <td>18000000000</td>\n",
       "      <td>Attacking Midfield</td>\n",
       "      <td>England</td>\n",
       "    </tr>\n",
       "    <tr>\n",
       "      <th>4</th>\n",
       "      <td>Vinicius Junior</td>\n",
       "      <td>17000000000</td>\n",
       "      <td>Left Winger</td>\n",
       "      <td>Brazil</td>\n",
       "    </tr>\n",
       "    <tr>\n",
       "      <th>5</th>\n",
       "      <td>Bukayo Saka</td>\n",
       "      <td>15000000000</td>\n",
       "      <td>Right Winger</td>\n",
       "      <td>England</td>\n",
       "    </tr>\n",
       "    <tr>\n",
       "      <th>8</th>\n",
       "      <td>Jamal Musiala</td>\n",
       "      <td>14000000000</td>\n",
       "      <td>Attacking Midfield</td>\n",
       "      <td>Germany</td>\n",
       "    </tr>\n",
       "    <tr>\n",
       "      <th>7</th>\n",
       "      <td>Florian Wirtz</td>\n",
       "      <td>14000000000</td>\n",
       "      <td>Attacking Midfield</td>\n",
       "      <td>Germany</td>\n",
       "    </tr>\n",
       "    <tr>\n",
       "      <th>6</th>\n",
       "      <td>Pedri</td>\n",
       "      <td>14000000000</td>\n",
       "      <td>Central Midfield</td>\n",
       "      <td>Spain</td>\n",
       "    </tr>\n",
       "    <tr>\n",
       "      <th>9</th>\n",
       "      <td>Federico Valverde</td>\n",
       "      <td>13000000000</td>\n",
       "      <td>Central Midfield</td>\n",
       "      <td>Uruguay</td>\n",
       "    </tr>\n",
       "  </tbody>\n",
       "</table>\n",
       "</div>"
      ],
      "text/plain": [
       "                 ime  stevilna_cena_eur            pozicija drzava_1\n",
       "0       Lamine Yamal        20000000000        Right Winger    Spain\n",
       "2     Erling Haaland        18000000000      Centre-Forward   Norway\n",
       "3      Kylian Mbappé        18000000000      Centre-Forward   France\n",
       "1    Jude Bellingham        18000000000  Attacking Midfield  England\n",
       "4    Vinicius Junior        17000000000         Left Winger   Brazil\n",
       "5        Bukayo Saka        15000000000        Right Winger  England\n",
       "8      Jamal Musiala        14000000000  Attacking Midfield  Germany\n",
       "7      Florian Wirtz        14000000000  Attacking Midfield  Germany\n",
       "6              Pedri        14000000000    Central Midfield    Spain\n",
       "9  Federico Valverde        13000000000    Central Midfield  Uruguay"
      ]
     },
     "execution_count": 27,
     "metadata": {},
     "output_type": "execute_result"
    }
   ],
   "source": [
    "top10 = osnovni_podatki.sort_values('stevilna_cena_eur', ascending=False).head(10)\n",
    "print(\"\\n🏆 10 najvrednejših igralcev:\")\n",
    "top10[['ime', 'stevilna_cena_eur', 'pozicija', 'drzava_1']]"
   ]
  },
  {
   "cell_type": "markdown",
   "id": "8097883c",
   "metadata": {},
   "source": [
    "## Povprečna vrednost po poziciji"
   ]
  },
  {
   "cell_type": "markdown",
   "id": "eb2b342c",
   "metadata": {},
   "source": [
    "Za začetek bomo razdelili igralce po nogometnih pozicijah in opazili, katera pozicija se največkrat pojavlja in katera pozicija je najbolj vredna."
   ]
  },
  {
   "cell_type": "code",
   "execution_count": 75,
   "id": "f2ea3177",
   "metadata": {},
   "outputs": [
    {
     "name": "stdout",
     "output_type": "stream",
     "text": [
      "👥 Število igralcev po pozicijah:\n"
     ]
    },
    {
     "data": {
      "text/html": [
       "<div>\n",
       "<style scoped>\n",
       "    .dataframe tbody tr th:only-of-type {\n",
       "        vertical-align: middle;\n",
       "    }\n",
       "\n",
       "    .dataframe tbody tr th {\n",
       "        vertical-align: top;\n",
       "    }\n",
       "\n",
       "    .dataframe thead th {\n",
       "        text-align: right;\n",
       "    }\n",
       "</style>\n",
       "<table border=\"1\" class=\"dataframe\">\n",
       "  <thead>\n",
       "    <tr style=\"text-align: right;\">\n",
       "      <th></th>\n",
       "      <th>Število igralcev</th>\n",
       "      <th>count</th>\n",
       "    </tr>\n",
       "  </thead>\n",
       "  <tbody>\n",
       "    <tr>\n",
       "      <th>0</th>\n",
       "      <td>Centre-Back</td>\n",
       "      <td>95</td>\n",
       "    </tr>\n",
       "    <tr>\n",
       "      <th>1</th>\n",
       "      <td>Centre-Forward</td>\n",
       "      <td>76</td>\n",
       "    </tr>\n",
       "    <tr>\n",
       "      <th>2</th>\n",
       "      <td>Central Midfield</td>\n",
       "      <td>62</td>\n",
       "    </tr>\n",
       "    <tr>\n",
       "      <th>3</th>\n",
       "      <td>Right Winger</td>\n",
       "      <td>56</td>\n",
       "    </tr>\n",
       "    <tr>\n",
       "      <th>4</th>\n",
       "      <td>Left Winger</td>\n",
       "      <td>46</td>\n",
       "    </tr>\n",
       "    <tr>\n",
       "      <th>5</th>\n",
       "      <td>Attacking Midfield</td>\n",
       "      <td>45</td>\n",
       "    </tr>\n",
       "    <tr>\n",
       "      <th>6</th>\n",
       "      <td>Defensive Midfield</td>\n",
       "      <td>42</td>\n",
       "    </tr>\n",
       "    <tr>\n",
       "      <th>7</th>\n",
       "      <td>Left-Back</td>\n",
       "      <td>30</td>\n",
       "    </tr>\n",
       "    <tr>\n",
       "      <th>8</th>\n",
       "      <td>Right-Back</td>\n",
       "      <td>23</td>\n",
       "    </tr>\n",
       "    <tr>\n",
       "      <th>9</th>\n",
       "      <td>Goalkeeper</td>\n",
       "      <td>16</td>\n",
       "    </tr>\n",
       "    <tr>\n",
       "      <th>10</th>\n",
       "      <td>Second Striker</td>\n",
       "      <td>4</td>\n",
       "    </tr>\n",
       "    <tr>\n",
       "      <th>11</th>\n",
       "      <td>Right Midfield</td>\n",
       "      <td>3</td>\n",
       "    </tr>\n",
       "    <tr>\n",
       "      <th>12</th>\n",
       "      <td>Left Midfield</td>\n",
       "      <td>1</td>\n",
       "    </tr>\n",
       "  </tbody>\n",
       "</table>\n",
       "</div>"
      ],
      "text/plain": [
       "      Število igralcev  count\n",
       "0          Centre-Back     95\n",
       "1       Centre-Forward     76\n",
       "2     Central Midfield     62\n",
       "3         Right Winger     56\n",
       "4          Left Winger     46\n",
       "5   Attacking Midfield     45\n",
       "6   Defensive Midfield     42\n",
       "7            Left-Back     30\n",
       "8           Right-Back     23\n",
       "9           Goalkeeper     16\n",
       "10      Second Striker      4\n",
       "11      Right Midfield      3\n",
       "12       Left Midfield      1"
      ]
     },
     "execution_count": 75,
     "metadata": {},
     "output_type": "execute_result"
    }
   ],
   "source": [
    "# Sešteje igralce po pozicijah\n",
    "igralci_po_pozicijah = (\n",
    "    osnovni_podatki['pozicija']\n",
    "    .value_counts()\n",
    "    .reset_index()\n",
    "    .rename(columns={\"index\": \"Pozicija\", \"pozicija\": \"Število igralcev\"})\n",
    ")\n",
    "\n",
    "print(\"👥 Število igralcev po pozicijah:\")\n",
    "igralci_po_pozicijah"
   ]
  },
  {
   "cell_type": "code",
   "execution_count": 73,
   "id": "af998aa8",
   "metadata": {},
   "outputs": [
    {
     "name": "stdout",
     "output_type": "stream",
     "text": [
      "\n",
      "📈 Povprečna vrednost po pozicijah:\n"
     ]
    },
    {
     "data": {
      "text/html": [
       "<div>\n",
       "<style scoped>\n",
       "    .dataframe tbody tr th:only-of-type {\n",
       "        vertical-align: middle;\n",
       "    }\n",
       "\n",
       "    .dataframe tbody tr th {\n",
       "        vertical-align: top;\n",
       "    }\n",
       "\n",
       "    .dataframe thead th {\n",
       "        text-align: right;\n",
       "    }\n",
       "</style>\n",
       "<table border=\"1\" class=\"dataframe\">\n",
       "  <thead>\n",
       "    <tr style=\"text-align: right;\">\n",
       "      <th></th>\n",
       "      <th>Pozicija</th>\n",
       "      <th>Povprečna vrednost</th>\n",
       "    </tr>\n",
       "  </thead>\n",
       "  <tbody>\n",
       "    <tr>\n",
       "      <th>0</th>\n",
       "      <td>Attacking Midfield</td>\n",
       "      <td>46.93M</td>\n",
       "    </tr>\n",
       "    <tr>\n",
       "      <th>1</th>\n",
       "      <td>Right Winger</td>\n",
       "      <td>45.27M</td>\n",
       "    </tr>\n",
       "    <tr>\n",
       "      <th>2</th>\n",
       "      <td>Second Striker</td>\n",
       "      <td>43.75M</td>\n",
       "    </tr>\n",
       "    <tr>\n",
       "      <th>3</th>\n",
       "      <td>Central Midfield</td>\n",
       "      <td>43.24M</td>\n",
       "    </tr>\n",
       "    <tr>\n",
       "      <th>4</th>\n",
       "      <td>Centre-Forward</td>\n",
       "      <td>42.75M</td>\n",
       "    </tr>\n",
       "    <tr>\n",
       "      <th>5</th>\n",
       "      <td>Left Winger</td>\n",
       "      <td>42.39M</td>\n",
       "    </tr>\n",
       "    <tr>\n",
       "      <th>6</th>\n",
       "      <td>Defensive Midfield</td>\n",
       "      <td>39.57M</td>\n",
       "    </tr>\n",
       "    <tr>\n",
       "      <th>7</th>\n",
       "      <td>Right-Back</td>\n",
       "      <td>37.83M</td>\n",
       "    </tr>\n",
       "    <tr>\n",
       "      <th>8</th>\n",
       "      <td>Left-Back</td>\n",
       "      <td>36.03M</td>\n",
       "    </tr>\n",
       "    <tr>\n",
       "      <th>9</th>\n",
       "      <td>Centre-Back</td>\n",
       "      <td>35.39M</td>\n",
       "    </tr>\n",
       "    <tr>\n",
       "      <th>10</th>\n",
       "      <td>Left Midfield</td>\n",
       "      <td>32.00M</td>\n",
       "    </tr>\n",
       "    <tr>\n",
       "      <th>11</th>\n",
       "      <td>Goalkeeper</td>\n",
       "      <td>30.31M</td>\n",
       "    </tr>\n",
       "    <tr>\n",
       "      <th>12</th>\n",
       "      <td>Right Midfield</td>\n",
       "      <td>24.67M</td>\n",
       "    </tr>\n",
       "  </tbody>\n",
       "</table>\n",
       "</div>"
      ],
      "text/plain": [
       "              Pozicija Povprečna vrednost\n",
       "0   Attacking Midfield             46.93M\n",
       "1         Right Winger             45.27M\n",
       "2       Second Striker             43.75M\n",
       "3     Central Midfield             43.24M\n",
       "4       Centre-Forward             42.75M\n",
       "5          Left Winger             42.39M\n",
       "6   Defensive Midfield             39.57M\n",
       "7           Right-Back             37.83M\n",
       "8            Left-Back             36.03M\n",
       "9          Centre-Back             35.39M\n",
       "10       Left Midfield             32.00M\n",
       "11          Goalkeeper             30.31M\n",
       "12      Right Midfield             24.67M"
      ]
     },
     "execution_count": 73,
     "metadata": {},
     "output_type": "execute_result"
    }
   ],
   "source": [
    "if osnovni_podatki['stevilna_cena_eur'].median() > 1e8:\n",
    "    osnovni_podatki['stevilna_cena_eur'] = osnovni_podatki['stevilna_cena_eur'] / 100\n",
    "\n",
    "povprecje_pozicija = (\n",
    "    osnovni_podatki\n",
    "    .groupby('pozicija')['stevilna_cena_eur']\n",
    "    .mean()\n",
    "    .sort_values(ascending=False)\n",
    "    .round(2) / 1_000_000\n",
    ")\n",
    "\n",
    "print(\"\\n📈 Povprečna vrednost po pozicijah:\")\n",
    "povprecje_pozicija.astype(str) + \"M\"\n",
    "\n",
    "povprecje_pozicija = povprecje_pozicija.reset_index()\n",
    "povprecje_pozicija.columns = ['Pozicija', 'Povprečna vrednost']\n",
    "povprecje_pozicija['Povprečna vrednost'] = povprecje_pozicija['Povprečna vrednost'].map(\"{:,.2f}M\".format)\n",
    "\n",
    "povprecje_pozicija"
   ]
  },
  {
   "cell_type": "code",
   "execution_count": null,
   "id": "386ed35c",
   "metadata": {},
   "outputs": [
    {
     "ename": "KeyError",
     "evalue": "'Pozicija'",
     "output_type": "error",
     "traceback": [
      "\u001b[31m---------------------------------------------------------------------------\u001b[39m",
      "\u001b[31mKeyError\u001b[39m                                  Traceback (most recent call last)",
      "\u001b[32m~\\AppData\\Local\\Temp\\ipykernel_4308\\1545395531.py\u001b[39m in \u001b[36m?\u001b[39m\u001b[34m()\u001b[39m\n\u001b[32m      4\u001b[39m     povprecje_pozicija[\u001b[33m'Povprečna vrednost'\u001b[39m].astype(str)\n\u001b[32m      5\u001b[39m         .str.replace(\u001b[33m'M'\u001b[39m,\u001b[33m''\u001b[39m, regex=\u001b[38;5;28;01mFalse\u001b[39;00m).str.replace(\u001b[33m','\u001b[39m,\u001b[33m'.'\u001b[39m, regex=\u001b[38;5;28;01mFalse\u001b[39;00m).astype(float)\n\u001b[32m      6\u001b[39m )\n\u001b[32m      7\u001b[39m \n\u001b[32m----> \u001b[39m\u001b[32m8\u001b[39m primerjava = igralci_po_pozicijah.merge(povprecje_pozicija, on=\u001b[33m'Pozicija'\u001b[39m)\n\u001b[32m      9\u001b[39m \n\u001b[32m     10\u001b[39m plt.figure(figsize=(\u001b[32m8\u001b[39m,\u001b[32m6\u001b[39m))\n\u001b[32m     11\u001b[39m plt.scatter(primerjava[\u001b[33m'Število igralcev'\u001b[39m], primerjava[\u001b[33m'Povprečna vrednost'\u001b[39m].astype(float))\n",
      "\u001b[32mc:\\Users\\Riccardo\\Documents\\Uni\\Introduzione alla programmazione\\UVP-projektna\\env\\Lib\\site-packages\\pandas\\core\\frame.py\u001b[39m in \u001b[36m?\u001b[39m\u001b[34m(self, right, how, on, left_on, right_on, left_index, right_index, sort, suffixes, copy, indicator, validate)\u001b[39m\n\u001b[32m  10835\u001b[39m         validate: MergeValidate | \u001b[38;5;28;01mNone\u001b[39;00m = \u001b[38;5;28;01mNone\u001b[39;00m,\n\u001b[32m  10836\u001b[39m     ) -> DataFrame:\n\u001b[32m  10837\u001b[39m         \u001b[38;5;28;01mfrom\u001b[39;00m pandas.core.reshape.merge \u001b[38;5;28;01mimport\u001b[39;00m merge\n\u001b[32m  10838\u001b[39m \n\u001b[32m> \u001b[39m\u001b[32m10839\u001b[39m         return merge(\n\u001b[32m  10840\u001b[39m             self,\n\u001b[32m  10841\u001b[39m             right,\n\u001b[32m  10842\u001b[39m             how=how,\n",
      "\u001b[32mc:\\Users\\Riccardo\\Documents\\Uni\\Introduzione alla programmazione\\UVP-projektna\\env\\Lib\\site-packages\\pandas\\core\\reshape\\merge.py\u001b[39m in \u001b[36m?\u001b[39m\u001b[34m(left, right, how, on, left_on, right_on, left_index, right_index, sort, suffixes, copy, indicator, validate)\u001b[39m\n\u001b[32m    166\u001b[39m             validate=validate,\n\u001b[32m    167\u001b[39m             copy=copy,\n\u001b[32m    168\u001b[39m         )\n\u001b[32m    169\u001b[39m     \u001b[38;5;28;01melse\u001b[39;00m:\n\u001b[32m--> \u001b[39m\u001b[32m170\u001b[39m         op = _MergeOperation(\n\u001b[32m    171\u001b[39m             left_df,\n\u001b[32m    172\u001b[39m             right_df,\n\u001b[32m    173\u001b[39m             how=how,\n",
      "\u001b[32mc:\\Users\\Riccardo\\Documents\\Uni\\Introduzione alla programmazione\\UVP-projektna\\env\\Lib\\site-packages\\pandas\\core\\reshape\\merge.py\u001b[39m in \u001b[36m?\u001b[39m\u001b[34m(self, left, right, how, on, left_on, right_on, left_index, right_index, sort, suffixes, indicator, validate)\u001b[39m\n\u001b[32m    790\u001b[39m             self.right_join_keys,\n\u001b[32m    791\u001b[39m             self.join_names,\n\u001b[32m    792\u001b[39m             left_drop,\n\u001b[32m    793\u001b[39m             right_drop,\n\u001b[32m--> \u001b[39m\u001b[32m794\u001b[39m         ) = self._get_merge_keys()\n\u001b[32m    795\u001b[39m \n\u001b[32m    796\u001b[39m         \u001b[38;5;28;01mif\u001b[39;00m left_drop:\n\u001b[32m    797\u001b[39m             self.left = self.left._drop_labels_or_levels(left_drop)\n",
      "\u001b[32mc:\\Users\\Riccardo\\Documents\\Uni\\Introduzione alla programmazione\\UVP-projektna\\env\\Lib\\site-packages\\pandas\\core\\reshape\\merge.py\u001b[39m in \u001b[36m?\u001b[39m\u001b[34m(self)\u001b[39m\n\u001b[32m   1307\u001b[39m                     \u001b[38;5;28;01mif\u001b[39;00m lk \u001b[38;5;28;01mis\u001b[39;00m \u001b[38;5;28;01mnot\u001b[39;00m \u001b[38;5;28;01mNone\u001b[39;00m:\n\u001b[32m   1308\u001b[39m                         \u001b[38;5;66;03m# Then we're either Hashable or a wrong-length arraylike,\u001b[39;00m\n\u001b[32m   1309\u001b[39m                         \u001b[38;5;66;03m#  the latter of which will raise\u001b[39;00m\n\u001b[32m   1310\u001b[39m                         lk = cast(Hashable, lk)\n\u001b[32m-> \u001b[39m\u001b[32m1311\u001b[39m                         left_keys.append(left._get_label_or_level_values(lk))\n\u001b[32m   1312\u001b[39m                         join_names.append(lk)\n\u001b[32m   1313\u001b[39m                     \u001b[38;5;28;01melse\u001b[39;00m:\n\u001b[32m   1314\u001b[39m                         \u001b[38;5;66;03m# work-around for merge_asof(left_index=True)\u001b[39;00m\n",
      "\u001b[32mc:\\Users\\Riccardo\\Documents\\Uni\\Introduzione alla programmazione\\UVP-projektna\\env\\Lib\\site-packages\\pandas\\core\\generic.py\u001b[39m in \u001b[36m?\u001b[39m\u001b[34m(self, key, axis)\u001b[39m\n\u001b[32m   1907\u001b[39m             values = self.xs(key, axis=other_axes[\u001b[32m0\u001b[39m])._values\n\u001b[32m   1908\u001b[39m         \u001b[38;5;28;01melif\u001b[39;00m self._is_level_reference(key, axis=axis):\n\u001b[32m   1909\u001b[39m             values = self.axes[axis].get_level_values(key)._values\n\u001b[32m   1910\u001b[39m         \u001b[38;5;28;01melse\u001b[39;00m:\n\u001b[32m-> \u001b[39m\u001b[32m1911\u001b[39m             \u001b[38;5;28;01mraise\u001b[39;00m KeyError(key)\n\u001b[32m   1912\u001b[39m \n\u001b[32m   1913\u001b[39m         \u001b[38;5;66;03m# Check for duplicates\u001b[39;00m\n\u001b[32m   1914\u001b[39m         \u001b[38;5;28;01mif\u001b[39;00m values.ndim > \u001b[32m1\u001b[39m:\n",
      "\u001b[31mKeyError\u001b[39m: 'Pozicija'"
     ]
    }
   ],
   "source": [
    "osnovni_podatki = osnovni_podatki.copy()\n",
    "\n",
    "pos_col = 'pozicija' if 'pozicija' in osnovni_podatki.col"
   ]
  },
  {
   "cell_type": "markdown",
   "id": "ed6f9532",
   "metadata": {},
   "source": [
    "## Povprečna vrednost po starostnih skupinah"
   ]
  },
  {
   "cell_type": "code",
   "execution_count": 6,
   "id": "9e427d46",
   "metadata": {},
   "outputs": [
    {
     "name": "stdout",
     "output_type": "stream",
     "text": [
      "\n",
      "🍰 Povprečna vrednost po starostni skupini:\n"
     ]
    },
    {
     "data": {
      "text/html": [
       "<div>\n",
       "<style scoped>\n",
       "    .dataframe tbody tr th:only-of-type {\n",
       "        vertical-align: middle;\n",
       "    }\n",
       "\n",
       "    .dataframe tbody tr th {\n",
       "        vertical-align: top;\n",
       "    }\n",
       "\n",
       "    .dataframe thead th {\n",
       "        text-align: right;\n",
       "    }\n",
       "</style>\n",
       "<table border=\"1\" class=\"dataframe\">\n",
       "  <thead>\n",
       "    <tr style=\"text-align: right;\">\n",
       "      <th></th>\n",
       "      <th>Starostna skupina</th>\n",
       "      <th>Povprečna vrednost</th>\n",
       "    </tr>\n",
       "  </thead>\n",
       "  <tbody>\n",
       "    <tr>\n",
       "      <th>0</th>\n",
       "      <td>21–25</td>\n",
       "      <td>41.28M</td>\n",
       "    </tr>\n",
       "    <tr>\n",
       "      <th>1</th>\n",
       "      <td>26–30</td>\n",
       "      <td>40.07M</td>\n",
       "    </tr>\n",
       "    <tr>\n",
       "      <th>2</th>\n",
       "      <td>≤20</td>\n",
       "      <td>40.00M</td>\n",
       "    </tr>\n",
       "    <tr>\n",
       "      <th>3</th>\n",
       "      <td>31+</td>\n",
       "      <td>35.89M</td>\n",
       "    </tr>\n",
       "  </tbody>\n",
       "</table>\n",
       "</div>"
      ],
      "text/plain": [
       "  Starostna skupina Povprečna vrednost\n",
       "0             21–25             41.28M\n",
       "1             26–30             40.07M\n",
       "2               ≤20             40.00M\n",
       "3               31+             35.89M"
      ]
     },
     "execution_count": 6,
     "metadata": {},
     "output_type": "execute_result"
    }
   ],
   "source": [
    "if osnovni_podatki['stevilna_cena_eur'].median() > 1e8:\n",
    "    osnovni_podatki['stevilna_cena_eur'] = osnovni_podatki['stevilna_cena_eur'] / 100\n",
    "\n",
    "\n",
    "bins = [0, 20, 25, 30, 100]\n",
    "labels = [\"≤20\", \"21–25\", \"26–30\", \"31+\"]\n",
    "osnovni_podatki['starostna_skupina'] = pd.cut(osnovni_podatki['starost'], bins=bins, labels=labels, right=True)\n",
    "\n",
    "povprecje_starost = (\n",
    "    osnovni_podatki\n",
    "    .groupby(\"starostna_skupina\", observed=False)[\"stevilna_cena_eur\"]\n",
    "    .mean()\n",
    "    .sort_values(ascending=False)\n",
    "    .round(2) / 1_000_000\n",
    ")\n",
    "\n",
    "print(\"\\n🍰 Povprečna vrednost po starostni skupini:\")\n",
    "povprecje_starost.astype(str) + \"M\"\n",
    "\n",
    "povprecje_starost_ = povprecje_starost.reset_index()\n",
    "povprecje_starost_.columns = [\"Starostna skupina\", \"Povprečna vrednost\"]\n",
    "povprecje_starost_[\"Povprečna vrednost\"] = povprecje_starost_[\"Povprečna vrednost\"].map(\"{:,.2f}M\".format)\n",
    "\n",
    "povprecje_starost_"
   ]
  },
  {
   "cell_type": "markdown",
   "id": "aa56c18e",
   "metadata": {},
   "source": [
    "## Graf starosti igralcev"
   ]
  },
  {
   "cell_type": "code",
   "execution_count": 7,
   "id": "4c5231de",
   "metadata": {},
   "outputs": [
    {
     "data": {
      "image/png": "[encoded data removed]",
      "text/plain": [
       "<Figure size 800x500 with 1 Axes>"
      ]
     },
     "metadata": {},
     "output_type": "display_data"
    }
   ],
   "source": [
    "plt.figure(figsize=(8, 5))\n",
    "plt.hist(osnovni_podatki[\"starost\"], bins=15, edgecolor=\"black\")\n",
    "plt.title(\"Porazdelitev igralcev po starosti\")\n",
    "plt.xlabel(\"Starost\")\n",
    "plt.ylabel(\"Stevilo\")\n",
    "plt.grid(axis=\"y\", alpha=0.3)\n",
    "plt.show()"
   ]
  },
  {
   "cell_type": "markdown",
   "id": "956eb561",
   "metadata": {},
   "source": [
    "## Razsevni diagram: *Starost vs. Vrednost*"
   ]
  },
  {
   "cell_type": "code",
   "execution_count": 8,
   "id": "e7f5a269",
   "metadata": {},
   "outputs": [
    {
     "data": {
      "image/png": "[encoded data removed]",
      "text/plain": [
       "<Figure size 800x500 with 1 Axes>"
      ]
     },
     "metadata": {},
     "output_type": "display_data"
    }
   ],
   "source": [
    "plt.figure(figsize=(8, 5))\n",
    "plt.scatter(osnovni_podatki[\"starost\"], osnovni_podatki[\"stevilna_cena_eur\"] / 1_000_000, alpha=0.7, c=\"purple\")\n",
    "plt.title(\"Starost vs. Vrednost\")\n",
    "plt.xlabel(\"Starost\")\n",
    "plt.ylabel(\"Vrednost [M€]\")\n",
    "plt.grid(alpha=0.3)\n",
    "plt.show()"
   ]
  },
  {
   "cell_type": "markdown",
   "id": "1aab4104",
   "metadata": {},
   "source": [
    "## Stolpčni diagram: Skupna vrednost ekipe na klub *(top 10)*"
   ]
  },
  {
   "cell_type": "code",
   "execution_count": 9,
   "id": "3958a4e9",
   "metadata": {},
   "outputs": [
    {
     "data": {
      "image/png": "[encoded data removed]",
      "text/plain": [
       "<Figure size 1000x500 with 1 Axes>"
      ]
     },
     "metadata": {},
     "output_type": "display_data"
    }
   ],
   "source": [
    "club_value = (\n",
    "    osnovni_podatki.groupby(\"klub\")[\"stevilna_cena_eur\"]\n",
    "    .sum()\n",
    "    .sort_values(ascending=False)\n",
    "    .head(10) / 1_000_000\n",
    ").round(2)\n",
    "\n",
    "plt.figure(figsize=(10, 5))\n",
    "plt.barh(club_value.index, club_value.values, color=\"red\")\n",
    "plt.title(\"10 najboljših klubov po skupni vrednosti ekipe\")\n",
    "plt.xlabel(\"Skupna vrednost ekipe [M€]\")\n",
    "plt.gca().xaxis.set_major_formatter(mtick.FormatStrFormatter('%.0fM'))\n",
    "plt.gca().invert_yaxis()  # najvrednejši na vrhu\n",
    "plt.grid(axis=\"x\", alpha=0.3)\n",
    "plt.show()"
   ]
  },
  {
   "cell_type": "code",
   "execution_count": 10,
   "id": "7765c3dd",
   "metadata": {},
   "outputs": [],
   "source": [
    "def vrednost_kluba(podatki, klub):\n",
    "    \"\"\"\n",
    "    Vrne skupno vrednost in ranking danega kluba.\n",
    "    \n",
    "    Parametri:\n",
    "        podatki: Podatki o vrednosti igralcev (v našem primeru 'osnovni_podatki')\n",
    "        klub (str): Ime kluba\n",
    "        \n",
    "    Vrne:\n",
    "        str: Skupna vrednost ekipe v milijonih € in ranking med vsemi klubi\n",
    "    \"\"\"\n",
    "    if klub not in podatki[\"klub\"].unique():\n",
    "        return f\"⚠️ Kluba '{klub}' ni mogoče najti v naboru podatkov.\"\n",
    "    \n",
    "    # Izračuna skupno vrednost ekipe na klub\n",
    "    vrednost_ekipe = (\n",
    "        podatki.groupby(\"klub\")[\"stevilna_cena_eur\"].sum().sort_values(ascending=False) / 1_000_000\n",
    "    ).round(2)\n",
    "    \n",
    "    # Pridobi vrednost in ranking\n",
    "    vrednost = vrednost_ekipe[klub]\n",
    "    rank = vrednost_ekipe.index.get_loc(klub) + 1  # +1, ker se indeks začne pri 0\n",
    "    klubi = len(vrednost_ekipe)\n",
    "    \n",
    "    return f\"🏟️ {klub}: {vrednost}M € (Rank {rank}/{klubi})\"\n"
   ]
  },
  {
   "cell_type": "code",
   "execution_count": 11,
   "id": "186f0ea1",
   "metadata": {},
   "outputs": [
    {
     "data": {
      "text/plain": [
       "'🏟️ Juventus FC: 476.0M € (Rank 13/84)'"
      ]
     },
     "execution_count": 11,
     "metadata": {},
     "output_type": "execute_result"
    }
   ],
   "source": [
    "vrednost_kluba(osnovni_podatki, \"Juventus FC\")"
   ]
  },
  {
   "cell_type": "code",
   "execution_count": 12,
   "id": "bb3e0e91",
   "metadata": {},
   "outputs": [],
   "source": [
    "def pregled_kluba(podatki, klub, top_n=5):\n",
    "    \"\"\"Vrne tabelo najvrednejših igralcev z globalnim in klubskim rankingom.\"\"\"\n",
    "    if klub not in podatki['klub'].unique():\n",
    "        return f\"⚠️ Kluba '{klub}' ni mogoče najti v naboru podatkov.\"\n",
    "    \n",
    "    # --- Vrednost ekipe ---\n",
    "    klub_vrednost = podatki.groupby('klub')['stevilna_cena_eur'].sum().sort_values(ascending=False)\n",
    "    \n",
    "    skupna_vrednost = klub_vrednost[klub]\n",
    "    global_rank = (klub_vrednost.index == klub).argmax() + 1  # najdi položaj\n",
    "    klubi = len(klub_vrednost)\n",
    "    \n",
    "    print(f\"\\n🏟️ {klub}: {skupna_vrednost/1_000_000:.2f}M € \"\n",
    "          f\"(Rank {global_rank}/{klubi})\")\n",
    "    \n",
    "    # --- Ranking igralcev ---\n",
    "    podatki = podatki.copy()\n",
    "    podatki['global_rank'] = podatki['stevilna_cena_eur'].rank(method=\"min\", ascending=False).astype(int)\n",
    "    podatki['klub_rank'] = podatki.groupby('klub')['stevilna_cena_eur'].rank(method=\"min\", ascending=False).astype(int)\n",
    "    \n",
    "    igralci_kluba = (\n",
    "        podatki[podatki['klub'] == klub]\n",
    "        .sort_values('stevilna_cena_eur', ascending=False)\n",
    "        .head(top_n)\n",
    "        .copy()\n",
    "    )\n",
    "    igralci_kluba['vrednost_M_€'] = (igralci_kluba['stevilna_cena_eur'] / 1_000_000).round(2)\n",
    "    \n",
    "    return igralci_kluba[[\n",
    "        'ime', 'pozicija', 'drzava_1',\n",
    "        'vrednost_M_€', 'klub_rank', 'global_rank'\n",
    "    ]]"
   ]
  },
  {
   "cell_type": "code",
   "execution_count": 13,
   "id": "1e7e9db1",
   "metadata": {},
   "outputs": [
    {
     "name": "stdout",
     "output_type": "stream",
     "text": [
      "\n",
      "🏟️ Juventus FC: 476.00M € (Rank 13/84)\n"
     ]
    },
    {
     "data": {
      "text/html": [
       "<div>\n",
       "<style scoped>\n",
       "    .dataframe tbody tr th:only-of-type {\n",
       "        vertical-align: middle;\n",
       "    }\n",
       "\n",
       "    .dataframe tbody tr th {\n",
       "        vertical-align: top;\n",
       "    }\n",
       "\n",
       "    .dataframe thead th {\n",
       "        text-align: right;\n",
       "    }\n",
       "</style>\n",
       "<table border=\"1\" class=\"dataframe\">\n",
       "  <thead>\n",
       "    <tr style=\"text-align: right;\">\n",
       "      <th></th>\n",
       "      <th>ime</th>\n",
       "      <th>pozicija</th>\n",
       "      <th>drzava_1</th>\n",
       "      <th>vrednost_M_€</th>\n",
       "      <th>klub_rank</th>\n",
       "      <th>global_rank</th>\n",
       "    </tr>\n",
       "  </thead>\n",
       "  <tbody>\n",
       "    <tr>\n",
       "      <th>87</th>\n",
       "      <td>Kenan Yıldız</td>\n",
       "      <td>Left Winger</td>\n",
       "      <td>Türkiye</td>\n",
       "      <td>50.0</td>\n",
       "      <td>1</td>\n",
       "      <td>87</td>\n",
       "    </tr>\n",
       "    <tr>\n",
       "      <th>98</th>\n",
       "      <td>Bremer</td>\n",
       "      <td>Centre-Back</td>\n",
       "      <td>Brazil</td>\n",
       "      <td>50.0</td>\n",
       "      <td>1</td>\n",
       "      <td>87</td>\n",
       "    </tr>\n",
       "    <tr>\n",
       "      <th>132</th>\n",
       "      <td>Jonathan David</td>\n",
       "      <td>Centre-Forward</td>\n",
       "      <td>Canada</td>\n",
       "      <td>45.0</td>\n",
       "      <td>3</td>\n",
       "      <td>119</td>\n",
       "    </tr>\n",
       "    <tr>\n",
       "      <th>170</th>\n",
       "      <td>Khéphren Thuram</td>\n",
       "      <td>Central Midfield</td>\n",
       "      <td>France</td>\n",
       "      <td>40.0</td>\n",
       "      <td>4</td>\n",
       "      <td>147</td>\n",
       "    </tr>\n",
       "    <tr>\n",
       "      <th>213</th>\n",
       "      <td>Andrea Cambiaso</td>\n",
       "      <td>Left-Back</td>\n",
       "      <td>Italy</td>\n",
       "      <td>35.0</td>\n",
       "      <td>5</td>\n",
       "      <td>191</td>\n",
       "    </tr>\n",
       "  </tbody>\n",
       "</table>\n",
       "</div>"
      ],
      "text/plain": [
       "                 ime          pozicija drzava_1  vrednost_M_€  klub_rank  \\\n",
       "87      Kenan Yıldız       Left Winger  Türkiye          50.0          1   \n",
       "98            Bremer       Centre-Back   Brazil          50.0          1   \n",
       "132   Jonathan David    Centre-Forward   Canada          45.0          3   \n",
       "170  Khéphren Thuram  Central Midfield   France          40.0          4   \n",
       "213  Andrea Cambiaso         Left-Back    Italy          35.0          5   \n",
       "\n",
       "     global_rank  \n",
       "87            87  \n",
       "98            87  \n",
       "132          119  \n",
       "170          147  \n",
       "213          191  "
      ]
     },
     "execution_count": 13,
     "metadata": {},
     "output_type": "execute_result"
    }
   ],
   "source": [
    "pregled_kluba(osnovni_podatki, 'Juventus FC', top_n=5)"
   ]
  },
  {
   "cell_type": "code",
   "execution_count": 14,
   "id": "58188ca4",
   "metadata": {},
   "outputs": [
    {
     "name": "stdout",
     "output_type": "stream",
     "text": [
      "\n",
      "🏟️ Juventus FC: 476.00M € (Rank 13/84)\n"
     ]
    },
    {
     "data": {
      "image/png": "[encoded data removed]",
      "text/plain": [
       "<Figure size 800x500 with 1 Axes>"
      ]
     },
     "metadata": {},
     "output_type": "display_data"
    }
   ],
   "source": [
    "juve = pregled_kluba(osnovni_podatki, \"Juventus FC\", top_n=10)\n",
    "plt.figure(figsize=(8, 5))\n",
    "plt.barh(juve['ime'], juve['vrednost_M_€'], \n",
    "         color=\"black\", edgecolor=\"white\")\n",
    "plt.gca().invert_yaxis()  # highest value on top\n",
    "plt.xlabel(\"Market Value [M €]\")\n",
    "plt.title(\"10 najvrednejših igralci - Juventus FC\")\n",
    "plt.show()"
   ]
  }
 ],
 "metadata": {
  "kernelspec": {
   "display_name": "env",
   "language": "python",
   "name": "python3"
  },
  "language_info": {
   "codemirror_mode": {
    "name": "ipython",
    "version": 3
   },
   "file_extension": ".py",
   "mimetype": "text/x-python",
   "name": "python",
   "nbconvert_exporter": "python",
   "pygments_lexer": "ipython3",
   "version": "3.13.7"
  }
 },
 "nbformat": 4,
 "nbformat_minor": 5
}
