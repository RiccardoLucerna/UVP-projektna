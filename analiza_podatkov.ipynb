{
 "cells": [
  {
   "cell_type": "markdown",
   "id": "cb78bda2",
   "metadata": {},
   "source": [
    "# Analiza najbolj dragocenih nogometašev"
   ]
  },
  {
   "cell_type": "markdown",
   "id": "15d9b2ed",
   "metadata": {},
   "source": [
    "Na tej datoteki bo potekala analiza o najbolj dragocenih nogometašev, pridobljenih s pomočjo datoteke *Transfermarkt.py*."
   ]
  },
  {
   "cell_type": "code",
   "execution_count": 1,
   "id": "bfa2fd54",
   "metadata": {},
   "outputs": [],
   "source": [
    "import pandas as pd\n",
    "pd.options.display.max_rows = 20"
   ]
  }
 ],
 "metadata": {
  "kernelspec": {
   "display_name": "env",
   "language": "python",
   "name": "python3"
  },
  "language_info": {
   "codemirror_mode": {
    "name": "ipython",
    "version": 3
   },
   "file_extension": ".py",
   "mimetype": "text/x-python",
   "name": "python",
   "nbconvert_exporter": "python",
   "pygments_lexer": "ipython3",
   "version": "3.13.6"
  }
 },
 "nbformat": 4,
 "nbformat_minor": 5
}
